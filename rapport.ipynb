{
 "cells": [
  {
   "cell_type": "markdown",
   "metadata": {},
   "source": [
    "# Rapport projet Octave\n",
    "## Introduction\n",
    "Nous avons le cas de deux robots avec des fonctions e(t) et w(t) qui représente leur amour(haine) l'un envers l'autre, nous avons reçu 5 systèmes représentant une evolution des sentiments différentes et pour chacun d'entre eux nous devons identifier la typologie du système, déterminer les isoclines, droites invariantes, et portrait de phase ainsi que de dessiner l'évolution de w(t) et e(t) pour t ∈ [0,10] pour 5 conditions initiales au choix.\n"
   ]
  },
  {
   "cell_type": "markdown",
   "metadata": {},
   "source": [
    "## Matériel\n",
    "Pour identifier la typologie du système nous allons nous servir des valeurs propres que l'on peut calculer avec cette formule:\n",
    "\n",
    "$\\det(A-\\lambda I) = \\lambda^{2}-\\tau\\lambda+\\Delta=0$\n",
    "\n",
    "$\\lambda_{1,2} = \\frac{\\tau \\pm \\sqrt{\\tau^2 - 4 \\Delta}}{2}$\n"
   ]
  },
  {
   "cell_type": "markdown",
   "metadata": {},
   "source": [
    "Toutes les fonctions nécessaire pour calculer et tracer droites invariantes, isoclines et portrait de phase nous ont été fournie par notre assisstant et on peut les retrouver ci dessous:\n",
    "### Droites invariantes"
   ]
  },
  {
   "cell_type": "code",
   "execution_count": null,
   "metadata": {},
   "outputs": [],
   "source": [
    "function [eigenline_1,eigenline_2,V] = compute_eigenlines(A,line_range)\n",
    "    [V,L] = eig(A);\n",
    "    eigenline_1 = (V(2,1)/V(1,1)) * line_range;\n",
    "    eigenline_2 = (V(2,2)/V(1,2)) * line_range;\n",
    "endfunction\n",
    "\n",
    "function [line_range,eigenline_1,eigenline_2] = plot_eigenlines(A)\n",
    "figure(1)\n",
    "    line_range = -1.5:.1:1.5;\n",
    "    [eigenline_1,eigenline_2,V] = compute_eigenlines(A,line_range);\n",
    "    hold on;\n",
    "    plot(line_range,eigenline_1,\"linewidth\",5);\n",
    "    plot(line_range,eigenline_2,\"linewidth\",5);\n",
    "    quiver([0;0],[0;0],V(1,:),V(2,:),\"linewidth\",5,\"color\",\"k\");\n",
    "    legend(\"v_1\",\"v_2\",\"location\",\"south\");\n",
    "endfunction"
   ]
  },
  {
   "cell_type": "markdown",
   "metadata": {},
   "source": [
    "### Isoclines"
   ]
  },
  {
   "cell_type": "code",
   "execution_count": null,
   "metadata": {},
   "outputs": [],
   "source": [
    "function [isocline_1,isocline_2] = compute_isoclines(A,line_range)\n",
    "    isocline_1 = -(A(1,1)/A(1,2)) * line_range;\n",
    "    isocline_2 = -(A(2,1)/A(2,2)) * line_range;\n",
    "endfunction\n",
    "\n",
    "function [line_range,isocline_1,isocline_2] = plot_isoclines(A)\n",
    "figure(2)\n",
    "    line_range = -1.5:.1:1.5;\n",
    "    [isocline_1,isocline_2] = compute_isoclines(A,line_range);\n",
    "    hold on;\n",
    "    plot(line_range,isocline_1,\"linewidth\",5);\n",
    "    plot(line_range,isocline_2,\"linewidth\",5);\n",
    "    legend(\"isocline_1\",\"isocline_2\",\"location\",\"south\");\n",
    "endfunction"
   ]
  },
  {
   "cell_type": "markdown",
   "metadata": {},
   "source": [
    "### Portrait de phase"
   ]
  },
  {
   "cell_type": "code",
   "execution_count": null,
   "metadata": {},
   "outputs": [],
   "source": [
    "function [x1,x2,x1p,x2p] = plot_portrait_phase(A)\n",
    "\n",
    "    #grid for plotting\n",
    "    x1range=-1.5:.1:1.5;\n",
    "    x2range=-1.5:.1:1.5;\n",
    "    [x1,x2] = meshgrid(x1range, x2range);\n",
    "\n",
    "    # Define the system to plot (based on matrix A)\n",
    "    x1p = A(1,1)*x1+A(1,2)*x2;\n",
    "    x2p = A(2,1)*x1+A(2,2)*x2;\n",
    "\n",
    "    #Normalize values for plotting\n",
    "    norms=sqrt(x1p.^2+x2p.^2);\n",
    "    # Vector field plot\n",
    "    hold on;\n",
    "    quiver(x1,x2,x1p./norms,x2p./norms,0.5);\n",
    "endfunction"
   ]
  },
  {
   "cell_type": "markdown",
   "metadata": {},
   "source": [
    "Et pour terminer octave possède une fonction permettant de dessiner l'évolution d'un système différentiel ode23"
   ]
  },
  {
   "cell_type": "markdown",
   "metadata": {},
   "source": [
    "## Résultats\n"
   ]
  },
  {
   "cell_type": "code",
   "execution_count": null,
   "metadata": {},
   "outputs": [],
   "source": [
    "CI = [0,1;0,2;1,1;1,2;2,2;]#Conditions initiales\n",
    "A = randi([0 5],2) #Paramètres\n",
    "ode_sys = @(t,x) [A(1,1)*x(1)+A(1,2)*x(2);A(2,1)*x(1)+A(2,2)*x(2)]; #[c*sin(t)] # Définition système [A(1,1)*x(1)+A(1,2)*x(2);A(2,1)*x(1)+A(2,2)*x(2)]\n",
    "[t,x] = ode23 (ode_sys, [0, 10], [CI(1,1),CI(1,2)]); # Résolution système\n",
    "plot(t,x)"
   ]
  },
  {
   "cell_type": "code",
   "execution_count": null,
   "metadata": {},
   "outputs": [],
   "source": []
  },
  {
   "cell_type": "code",
   "execution_count": null,
   "metadata": {},
   "outputs": [],
   "source": []
  }
 ],
 "metadata": {
  "kernelspec": {
   "display_name": "Octave",
   "language": "octave",
   "name": "octave"
  }
 },
 "nbformat": 4,
 "nbformat_minor": 2
}
